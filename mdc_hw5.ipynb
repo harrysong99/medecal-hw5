{
  "nbformat": 4,
  "nbformat_minor": 0,
  "metadata": {
    "kernelspec": {
      "display_name": "Python 3",
      "language": "python",
      "name": "python3"
    },
    "language_info": {
      "codemirror_mode": {
        "name": "ipython",
        "version": 3
      },
      "file_extension": ".py",
      "mimetype": "text/x-python",
      "name": "python",
      "nbconvert_exporter": "python",
      "pygments_lexer": "ipython3",
      "version": "3.7.4"
    },
    "colab": {
      "name": "mdc_hw5.ipynb",
      "provenance": [],
      "collapsed_sections": []
    },
    "accelerator": "GPU"
  },
  "cells": [
    {
      "cell_type": "markdown",
      "metadata": {
        "id": "UFLCB98Wd-w1"
      },
      "source": [
        "# Homework 5\n",
        "\n",
        "In this homework, we will implement U-Net to perform instance segmentation on mock data. \n",
        "Instance segmentation is the task of detecting and delineating each distinct object of interest appearing in an image. It plays a significant role in biomedical morphological analysis (ie. Brain Tumor Diagnosis).\n",
        "U-Net was proposed by Ronneberger in 2015 and has since become one of the most popular ML architecture for Biomedical Instance Segmentation.\n",
        "You can find more information on U-Net and its application in this week's lecture. You can also check out the original [research paper](https://arxiv.org/abs/1505.04597).\n",
        "\n",
        "As usual, sections where you have to write code are denoted by a \"#CODE HERE\". \n"
      ]
    },
    {
      "cell_type": "markdown",
      "metadata": {
        "id": "fPbuYHxsd-w2"
      },
      "source": [
        "## 0. Helper Functions\n",
        "\n",
        "Before we begin, here's the brief overview of other python files in the google drive folder alongside this colab notebook. We will be using these functions quite a bit in the assignment. Even though all the code needed to use these functions will be provided to you, we still encourage you to skim through them for your own understanding.\n",
        "\n",
        "_utils.py : Plotting functions for visualization_\n",
        "\n",
        "_loss.py : DICE loss function_\n",
        "\n",
        "_simulation.py : Functions to generate mock data_\n",
        "\n",
        "## 1. Import Libraries & Set up\n",
        "\n",
        "As usual, we will import the necessary libraries. Remember to pip install any libraries you do not have. "
      ]
    },
    {
      "cell_type": "code",
      "metadata": {
        "id": "1eEYGetcd-w3"
      },
      "source": [
        "#Computational Libraries\n",
        "import numpy as np\n",
        "from torch.utils.data import Dataset, DataLoader\n",
        "from torchvision import transforms, datasets, models\n",
        "import torch.nn as nn\n",
        "import math\n",
        "import torch\n",
        "import torch.optim as optim\n",
        "from torch.optim import lr_scheduler\n",
        "import copy\n",
        "import torchvision\n",
        "from collections import defaultdict\n",
        "import torch.nn.functional as F\n",
        "\n",
        "\n",
        "#Visualization Libraries\n",
        "import matplotlib.pyplot as plt\n",
        "\n",
        "#Utils Libraries\n",
        "import sys\n",
        "import time"
      ],
      "execution_count": null,
      "outputs": []
    },
    {
      "cell_type": "markdown",
      "metadata": {
        "id": "RpSnjQARceDg"
      },
      "source": [
        "First, we will mount our google drive. This will allow us to access the helper functions mentioned in the previous section. "
      ]
    },
    {
      "cell_type": "code",
      "metadata": {
        "id": "U2fysKUjetNO",
        "colab": {
          "base_uri": "https://localhost:8080/"
        },
        "outputId": "3927515d-1d8a-43e4-817b-69eed41533b7"
      },
      "source": [
        "# Google Drive Connection\n",
        "from google.colab import drive\n",
        "drive.mount(\"/content/drive\")\n"
      ],
      "execution_count": null,
      "outputs": [
        {
          "output_type": "stream",
          "text": [
            "Drive already mounted at /content/drive; to attempt to forcibly remount, call drive.mount(\"/content/drive\", force_remount=True).\n"
          ],
          "name": "stdout"
        }
      ]
    },
    {
      "cell_type": "markdown",
      "metadata": {
        "id": "JDcYsxs-biPm"
      },
      "source": [
        "We will add this assignment's folder to the system path. This will allow us to import the helper modules in the next code block. If you added the class's google drive folder into your drive, the system path to be appended should be\n",
        "`/content/drive/My Drive/ML in Healthcare Class Folder/Assignments/Homework 5`\n",
        "\n",
        "\n",
        "  "
      ]
    },
    {
      "cell_type": "code",
      "metadata": {
        "id": "xjNf3gRae4AQ"
      },
      "source": [
        "sys.path.append(\"/content/drive/My Drive/ML in Healthcare Class Folder/Assignments/Homework 5\")"
      ],
      "execution_count": null,
      "outputs": []
    },
    {
      "cell_type": "markdown",
      "metadata": {
        "id": "MurnEgJheGm7"
      },
      "source": [
        "Now we will import the helper modules."
      ]
    },
    {
      "cell_type": "code",
      "metadata": {
        "id": "VCWhIgBqc1LW"
      },
      "source": [
        "import simulation\n",
        "import utils\n",
        "from loss import dice_loss"
      ],
      "execution_count": null,
      "outputs": []
    },
    {
      "cell_type": "markdown",
      "metadata": {
        "id": "xO3bm-B3XUBU"
      },
      "source": [
        "Next, we will enable GPU from Notebook settings for faster training\n",
        "- In settings, select Edit > Notebook Settings\n",
        "- Select GPU from Hardware Accelerator dropdown list"
      ]
    },
    {
      "cell_type": "code",
      "metadata": {
        "id": "d7BireEBVo53",
        "colab": {
          "base_uri": "https://localhost:8080/"
        },
        "outputId": "76d254d6-6f30-44dd-ab3f-1ab293d64b49"
      },
      "source": [
        "if not torch.cuda.is_available():\n",
        "  raise Exception(\"GPU not availalbe. CPU training will be too slow.\")\n",
        "\n",
        "print(\"device name\", torch.cuda.get_device_name(0))"
      ],
      "execution_count": null,
      "outputs": [
        {
          "output_type": "stream",
          "text": [
            "device name Tesla T4\n"
          ],
          "name": "stdout"
        }
      ]
    },
    {
      "cell_type": "markdown",
      "metadata": {
        "id": "Bm55R7sRd-w6"
      },
      "source": [
        "## 2. Data Visualization\n",
        "\n",
        "Let's first take a look out the type of images we are attempting to segment. We will first generate some random images. "
      ]
    },
    {
      "cell_type": "code",
      "metadata": {
        "id": "_7Kb-Rd3d-w6",
        "colab": {
          "base_uri": "https://localhost:8080/"
        },
        "outputId": "17a31aba-803b-4882-a6f3-9b4c0883272c"
      },
      "source": [
        "# Generate some random images\n",
        "input_images, target_masks = simulation.generate_random_data(192, 192, count=2)\n",
        "\n",
        "print(\"input_images shape and range\", input_images.shape, input_images.min(), input_images.max())\n",
        "print(\"target_masks shape and range\", target_masks.shape, target_masks.min(), target_masks.max())\n",
        "\n",
        "# Change channel-order and make 3 channels for matplot\n",
        "input_images_rgb = [x.astype(np.uint8) for x in input_images]\n",
        "\n",
        "# Map each channel (i.e. class) to each color\n",
        "target_masks_rgb = [utils.masks_to_colorimg(x) for x in target_masks]"
      ],
      "execution_count": null,
      "outputs": [
        {
          "output_type": "stream",
          "text": [
            "input_images shape and range (2, 192, 192, 3) 0 255\n",
            "target_masks shape and range (2, 6, 192, 192) 0.0 1.0\n"
          ],
          "name": "stdout"
        }
      ]
    },
    {
      "cell_type": "markdown",
      "metadata": {
        "id": "FfXBYT5Ed-w9"
      },
      "source": [
        "Next, we will plot the input image and its target mask. Our goal is to build a U-Net model that is capable of performing instance segmentation on the input image to produce the target mask.\n",
        "\n",
        "Left: Input image (black and white), Right: Target mask (6ch)"
      ]
    },
    {
      "cell_type": "code",
      "metadata": {
        "id": "F1k-y3Vkd-w-",
        "colab": {
          "base_uri": "https://localhost:8080/",
          "height": 486
        },
        "outputId": "ec5f0352-bf3c-4b65-ff6f-ce19fc5e4929"
      },
      "source": [
        "utils.plot_side_by_side([input_images_rgb, target_masks_rgb])"
      ],
      "execution_count": null,
      "outputs": [
        {
          "output_type": "display_data",
          "data": {
            "image/png": "[encoded data removed]",
            "text/plain": [
              "<Figure size 576x576 with 4 Axes>"
            ]
          },
          "metadata": {
            "tags": [],
            "needs_background": "light"
          }
        }
      ]
    },
    {
      "cell_type": "markdown",
      "metadata": {
        "id": "PLowsD7Od-xA"
      },
      "source": [
        "## 3. Data Preparation\n",
        "### 3.1 Prepare Dataset and DataLoader\n",
        "\n",
        "In this section, we define a map-style dataset and DataLoader for easy data loading. Check out [this link](https://pytorch.org/docs/stable/data.html) for more information on pytorch's data loading utility.\n"
      ]
    },
    {
      "cell_type": "code",
      "metadata": {
        "id": "RxCyVQ3id-xB"
      },
      "source": [
        "class SimDataset(Dataset):\n",
        "  def __init__(self, count, transform=None):\n",
        "    self.input_images, self.target_masks = simulation.generate_random_data(192, 192, count=count)\n",
        "    self.transform = transform\n",
        "\n",
        "  def __len__(self):\n",
        "    return len(self.input_images)\n",
        "\n",
        "  def __getitem__(self, idx):\n",
        "    image = self.input_images[idx]\n",
        "    mask = self.target_masks[idx]\n",
        "    if self.transform:\n",
        "      image = self.transform(image)\n",
        "\n",
        "    return [image, mask]\n",
        "\n",
        "# use the same transformations for train/val in this example\n",
        "trans = transforms.Compose([\n",
        "  transforms.ToTensor(),\n",
        "  transforms.Normalize([0.485, 0.456, 0.406], [0.229, 0.224, 0.225]) # imagenet\n",
        "])\n",
        "\n",
        "#Create training set and validation set \n",
        "train_set = SimDataset(2000, transform = trans)\n",
        "val_set = SimDataset(200, transform = trans)\n",
        "\n",
        "#Prepare image datasets with training set and validation set\n",
        "image_datasets = {\n",
        "  'train': train_set, 'val': val_set\n",
        "}\n",
        "\n",
        "batch_size = 25\n",
        "\n",
        "dataloaders = {\n",
        "  'train': DataLoader(train_set, batch_size=batch_size, shuffle=True, num_workers=0),\n",
        "  'val': DataLoader(val_set, batch_size=batch_size, shuffle=True, num_workers=0)\n",
        "}"
      ],
      "execution_count": null,
      "outputs": []
    },
    {
      "cell_type": "markdown",
      "metadata": {
        "id": "LuZdlTi6d-xH"
      },
      "source": [
        "### 3.1 Check outputs from DataLoader"
      ]
    },
    {
      "cell_type": "code",
      "metadata": {
        "id": "5GW2WGIjd-xH",
        "colab": {
          "base_uri": "https://localhost:8080/",
          "height": 303
        },
        "outputId": "39a8266f-cf68-48a1-c1e9-0a9169ea608f"
      },
      "source": [
        "def reverse_transform(inp):\n",
        "  inp = inp.numpy().transpose((1, 2, 0))\n",
        "  mean = np.array([0.485, 0.456, 0.406])\n",
        "  std = np.array([0.229, 0.224, 0.225])\n",
        "  inp = std * inp + mean\n",
        "  inp = np.clip(inp, 0, 1)\n",
        "  inp = (inp * 255).astype(np.uint8)\n",
        "\n",
        "  return inp\n",
        "\n",
        "# Get a batch of training data\n",
        "inputs, masks = next(iter(dataloaders['train']))\n",
        "\n",
        "print(inputs.shape, masks.shape)\n",
        "\n",
        "plt.imshow(reverse_transform(inputs[3]))"
      ],
      "execution_count": null,
      "outputs": [
        {
          "output_type": "stream",
          "text": [
            "torch.Size([25, 3, 192, 192]) torch.Size([25, 6, 192, 192])\n"
          ],
          "name": "stdout"
        },
        {
          "output_type": "execute_result",
          "data": {
            "text/plain": [
              "<matplotlib.image.AxesImage at 0x7f91458728d0>"
            ]
          },
          "metadata": {
            "tags": []
          },
          "execution_count": 9
        },
        {
          "output_type": "display_data",
          "data": {
            "image/png": "[encoded data removed]",
            "text/plain": [
              "<Figure size 432x288 with 1 Axes>"
            ]
          },
          "metadata": {
            "tags": [],
            "needs_background": "light"
          }
        }
      ]
    },
    {
      "cell_type": "markdown",
      "metadata": {
        "id": "hPe9-SqYd-xK"
      },
      "source": [
        "## 3. Model Building\n",
        "Now let's build our model!! \n",
        "\n",
        "Here's a diagram of the U-Net's architecture you will be implementing.\n"
      ]
    },
    {
      "cell_type": "markdown",
      "metadata": {
        "id": "WIRi2q3cXt9O"
      },
      "source": [
        "![alt](https://github.com/athenaleong/Medecal_Misc/blob/main/Unet.png?raw=true)"
      ]
    },
    {
      "cell_type": "markdown",
      "metadata": {
        "id": "MPa5s1uqhkFx"
      },
      "source": [
        "Below is a breakdown of the architecture by layers and the functions for implementation. \n",
        "\n",
        "For downsampling path:\n",
        "\n",
        "Each layer consists of \n",
        "*   [2d Convolution](https://pytorch.org/docs/stable/generated/torch.nn.Conv2d.html) with kernel size of 3 and padding of 1 \n",
        "*   [ReLu Activation Function](https://pytorch.org/docs/stable/generated/torch.nn.ReLU.html)  \n",
        "*   [2d Convolution](https://pytorch.org/docs/stable/generated/torch.nn.Conv2d.html) with kernel size of 3 and padding of 1 \n",
        "*   [ReLu Activation Function ](https://pytorch.org/docs/stable/generated/torch.nn.ReLU.html) \n",
        "* [Max Pooling](https://pytorch.org/docs/stable/generated/torch.nn.MaxPool2d.html) with kernel size of 2\n",
        "\n",
        "For upsampling path:\n",
        "\n",
        "Each layer consists of\n",
        "*   [Concatation](https://pytorch.org/docs/stable/generated/torch.cat.html) with matrix from corresponding downsampling path\n",
        "*   [2d Convolution](https://pytorch.org/docs/stable/generated/torch.nn.Conv2d.html) with kernel size of 3 and padding of 1 \n",
        "*   [ReLu Activation Function](https://pytorch.org/docs/stable/generated/torch.nn.ReLU.html)  \n",
        "*   [2d Convolution](https://pytorch.org/docs/stable/generated/torch.nn.Conv2d.html) with kernel size of 3 and padding of 1 \n",
        "*   [ReLu Activation Function ](https://pytorch.org/docs/stable/generated/torch.nn.ReLU.html) \n",
        "* [Upsampling](https://pytorch.org/docs/stable/generated/torch.nn.Upsample.html) with scale factor of 2 and aligned corners in bilinear mode \n",
        "\n",
        "Since both upsampling path and downsamping use double convolutions. It is good practice to write a helper function.\n",
        "\n",
        "In addition, we will be using [Adam optimizer](https://pytorch.org/docs/stable/optim.html#torch.optim.Adam) with an initial learning rate of 1e-4. To update the learning rate, we will be using the [learning rate scheduler](https://pytorch.org/docs/stable/optim.html#torch.optim.lr_scheduler.StepLR) \n",
        "\n",
        "\n",
        "\n",
        "\n"
      ]
    },
    {
      "cell_type": "code",
      "metadata": {
        "id": "BtyN-_EMd-xK"
      },
      "source": [
        "def double_conv(in_channels, out_channels):\n",
        "  \"\"\" \n",
        "    Helper funciton to perform 2x (Conv2d + Relu) \n",
        "    in_channels: Number of input channels\n",
        "    out_channels: Number of output channels after 2 convolution\n",
        "  \"\"\"\n",
        "  #CODE_HERE\n",
        "  return torch.nn.Sequential(\n",
        "      torch.nn.Conv2d(in_channels, out_channels, 3, padding=1),\n",
        "      torch.nn.ReLU(inplace=True),\n",
        "      torch.nn.Conv2d(out_channels, out_channels, 3, padding=1),\n",
        "      torch.nn.ReLU(inplace=True)\n",
        "  )\n",
        "\n",
        "class UNet(nn.Module):\n",
        "    def __init__(self, n_class):\n",
        "        super().__init__()\n",
        "                \n",
        "        #CODE_HERE\n",
        "        self.first_dconv = double_conv(3, 64)\n",
        "        self.second_dconv = double_conv(64, 128)\n",
        "        self.third_dconv = double_conv(128, 256)\n",
        "        self.last_dconv = double_conv(256, 512)\n",
        "\n",
        "        self.first_upconv = double_conv(256 + 512, 256)\n",
        "        self.second_upconv = double_conv(128 + 256, 128)\n",
        "        self.third_upconv = double_conv(128 + 64, 64)  \n",
        "\n",
        "        self.last_conv = nn.Conv2d(64, n_class, 1)\n",
        "        \n",
        "    def forward(self, x):\n",
        "        #CODE_HERE\n",
        "        maxpooling = torch.nn.MaxPool2d(2)\n",
        "        \n",
        "        conv1 = self.first_dconv(x)\n",
        "        dconv1 = maxpooling(conv1)\n",
        "        \n",
        "        conv2 = self.second_dconv(dconv1)\n",
        "        dconv2 = maxpooling(conv2)\n",
        "\n",
        "        conv3 = self.third_dconv(dconv2)\n",
        "        dconv3 = maxpooling(conv3)\n",
        "\n",
        "        conv4 = self.last_dconv(dconv3)\n",
        "        \n",
        "        upsampling = torch.nn.Upsample(scale_factor=2, mode='bilinear', align_corners=True)\n",
        "        \n",
        "        upsample = upsampling(conv4)        \n",
        "        concat = torch.cat([upsample, conv3], dim=1)\n",
        "        uconv1 = self.first_upconv(concat)\n",
        "        \n",
        "        upsample = upsampling(uconv1)        \n",
        "        concat = torch.cat([upsample, conv2], dim=1)\n",
        "        uconv2 = self.second_upconv(concat)\n",
        "        \n",
        "        upsample = upsampling(uconv2)       \n",
        "        concat = torch.cat([upsample, conv1], dim=1)\n",
        "        uconv3 = self.third_upconv(concat)\n",
        "        \n",
        "        out = self.last_conv(uconv3)\n",
        "        \n",
        "        return out"
      ],
      "execution_count": null,
      "outputs": []
    },
    {
      "cell_type": "markdown",
      "metadata": {
        "id": "dn_ob2D8d-xM"
      },
      "source": [
        "## 4. Model Training \n",
        "### 4. 1 Instantiate Model\n",
        "Now that we have built our model, let's train it. \n",
        "We will \n",
        "- Instantiate Model\n",
        "- Move the model to GPU if available\n",
        "- Show Model summaries"
      ]
    },
    {
      "cell_type": "code",
      "metadata": {
        "id": "4EoiWUXed-xN",
        "colab": {
          "base_uri": "https://localhost:8080/"
        },
        "outputId": "64594977-6547-4d6d-91f7-456148a898d4"
      },
      "source": [
        "#Move model to GPU\n",
        "device = torch.device('cuda' if torch.cuda.is_available() else 'cpu')\n",
        "print('device', device)\n",
        "\n",
        "#Instantiate model with 6 classes\n",
        "model = UNet(6) #CODE_HERE\n",
        "model = model.to(device)"
      ],
      "execution_count": null,
      "outputs": [
        {
          "output_type": "stream",
          "text": [
            "device cuda\n"
          ],
          "name": "stdout"
        }
      ]
    },
    {
      "cell_type": "code",
      "metadata": {
        "id": "ZxOqxwJKd-xP",
        "colab": {
          "base_uri": "https://localhost:8080/"
        },
        "outputId": "d6524c8b-53ab-441a-d196-d4462245badd"
      },
      "source": [
        "#Visualize Model Summary\n",
        "model"
      ],
      "execution_count": null,
      "outputs": [
        {
          "output_type": "execute_result",
          "data": {
            "text/plain": [
              "UNet(\n",
              "  (first_dconv): Sequential(\n",
              "    (0): Conv2d(3, 64, kernel_size=(3, 3), stride=(1, 1), padding=(1, 1))\n",
              "    (1): ReLU(inplace=True)\n",
              "    (2): Conv2d(64, 64, kernel_size=(3, 3), stride=(1, 1), padding=(1, 1))\n",
              "    (3): ReLU(inplace=True)\n",
              "  )\n",
              "  (second_dconv): Sequential(\n",
              "    (0): Conv2d(64, 128, kernel_size=(3, 3), stride=(1, 1), padding=(1, 1))\n",
              "    (1): ReLU(inplace=True)\n",
              "    (2): Conv2d(128, 128, kernel_size=(3, 3), stride=(1, 1), padding=(1, 1))\n",
              "    (3): ReLU(inplace=True)\n",
              "  )\n",
              "  (third_dconv): Sequential(\n",
              "    (0): Conv2d(128, 256, kernel_size=(3, 3), stride=(1, 1), padding=(1, 1))\n",
              "    (1): ReLU(inplace=True)\n",
              "    (2): Conv2d(256, 256, kernel_size=(3, 3), stride=(1, 1), padding=(1, 1))\n",
              "    (3): ReLU(inplace=True)\n",
              "  )\n",
              "  (last_dconv): Sequential(\n",
              "    (0): Conv2d(256, 512, kernel_size=(3, 3), stride=(1, 1), padding=(1, 1))\n",
              "    (1): ReLU(inplace=True)\n",
              "    (2): Conv2d(512, 512, kernel_size=(3, 3), stride=(1, 1), padding=(1, 1))\n",
              "    (3): ReLU(inplace=True)\n",
              "  )\n",
              "  (first_upconv): Sequential(\n",
              "    (0): Conv2d(768, 256, kernel_size=(3, 3), stride=(1, 1), padding=(1, 1))\n",
              "    (1): ReLU(inplace=True)\n",
              "    (2): Conv2d(256, 256, kernel_size=(3, 3), stride=(1, 1), padding=(1, 1))\n",
              "    (3): ReLU(inplace=True)\n",
              "  )\n",
              "  (second_upconv): Sequential(\n",
              "    (0): Conv2d(384, 128, kernel_size=(3, 3), stride=(1, 1), padding=(1, 1))\n",
              "    (1): ReLU(inplace=True)\n",
              "    (2): Conv2d(128, 128, kernel_size=(3, 3), stride=(1, 1), padding=(1, 1))\n",
              "    (3): ReLU(inplace=True)\n",
              "  )\n",
              "  (third_upconv): Sequential(\n",
              "    (0): Conv2d(192, 64, kernel_size=(3, 3), stride=(1, 1), padding=(1, 1))\n",
              "    (1): ReLU(inplace=True)\n",
              "    (2): Conv2d(64, 64, kernel_size=(3, 3), stride=(1, 1), padding=(1, 1))\n",
              "    (3): ReLU(inplace=True)\n",
              "  )\n",
              "  (last_conv): Conv2d(64, 6, kernel_size=(1, 1), stride=(1, 1))\n",
              ")"
            ]
          },
          "metadata": {
            "tags": []
          },
          "execution_count": 12
        }
      ]
    },
    {
      "cell_type": "code",
      "metadata": {
        "id": "7d7frKhHd-xR"
      },
      "source": [
        "checkpoint_path = \"checkpoint.pth\"\n",
        "\n",
        "def calc_loss(pred, target, metrics, bce_weight=0.5):\n",
        "    \"\"\" Function to calculate loss \"\"\"\n",
        "    bce = F.binary_cross_entropy_with_logits(pred, target)\n",
        "\n",
        "    pred = torch.sigmoid(pred)\n",
        "    dice = dice_loss(pred, target)\n",
        "\n",
        "    loss = bce * bce_weight + dice * (1 - bce_weight)\n",
        "\n",
        "    metrics['bce'] += bce.data.cpu().numpy() * target.size(0)\n",
        "    metrics['dice'] += dice.data.cpu().numpy() * target.size(0)\n",
        "    metrics['loss'] += loss.data.cpu().numpy() * target.size(0)\n",
        "\n",
        "    return loss\n",
        "def print_metrics(metrics, epoch_samples, phase): \n",
        "    \"\"\"  Print Metrics during training \"\"\"  \n",
        "    outputs = []\n",
        "    for k in metrics.keys():\n",
        "        outputs.append(\"{}: {:4f}\".format(k, metrics[k] / epoch_samples))\n",
        "        \n",
        "    print(\"{}: {}\".format(phase, \", \".join(outputs)))    \n",
        "\n",
        "def train_model(model, optimizer, scheduler, num_epochs=25):\n",
        "    best_loss = 1e10\n",
        "\n",
        "    for epoch in range(num_epochs):\n",
        "        print('Epoch {}/{}'.format(epoch, num_epochs - 1))\n",
        "        print('-' * 10)\n",
        "\n",
        "        since = time.time()\n",
        "\n",
        "        # Each epoch has a training and validation phase\n",
        "        for phase in ['train', 'val']:\n",
        "            if phase == 'train':\n",
        "                model.train()  # Set model to training mode\n",
        "            else:\n",
        "                model.eval()   # Set model to evaluate mode\n",
        "\n",
        "            metrics = defaultdict(float)\n",
        "            epoch_samples = 0\n",
        "\n",
        "            for inputs, labels in dataloaders[phase]:\n",
        "                inputs = inputs.to(device)\n",
        "                labels = labels.to(device)\n",
        "\n",
        "                # zero the parameter gradients\n",
        "                optimizer.zero_grad()\n",
        "\n",
        "                # forward\n",
        "                # track history if only in train\n",
        "                with torch.set_grad_enabled(phase == 'train'):\n",
        "                    outputs = model(inputs)\n",
        "                    loss = calc_loss(outputs, labels, metrics)\n",
        "\n",
        "                    # backward + optimize only if in training phase\n",
        "                    if phase == 'train':\n",
        "                        loss.backward()\n",
        "                        optimizer.step()\n",
        "\n",
        "                # statistics\n",
        "                epoch_samples += inputs.size(0)\n",
        "\n",
        "            print_metrics(metrics, epoch_samples, phase)\n",
        "            epoch_loss = metrics['loss'] / epoch_samples\n",
        "\n",
        "            if phase == 'train':\n",
        "              scheduler.step()\n",
        "              for param_group in optimizer.param_groups:\n",
        "                  print(\"LR\", param_group['lr'])\n",
        "\n",
        "            # save the model weights\n",
        "            if phase == 'val' and epoch_loss < best_loss:\n",
        "                print(f\"saving best model to {checkpoint_path}\")\n",
        "                best_loss = epoch_loss\n",
        "                torch.save(model.state_dict(), checkpoint_path)\n",
        "\n",
        "        time_elapsed = time.time() - since\n",
        "        print('{:.0f}m {:.0f}s'.format(time_elapsed // 60, time_elapsed % 60))\n",
        "\n",
        "    print('Best val loss: {:4f}'.format(best_loss))\n",
        "\n",
        "    # load best model weights\n",
        "    model.load_state_dict(torch.load(checkpoint_path))\n",
        "    return model"
      ],
      "execution_count": null,
      "outputs": []
    },
    {
      "cell_type": "code",
      "metadata": {
        "id": "RxTZloeud-xT",
        "colab": {
          "base_uri": "https://localhost:8080/"
        },
        "outputId": "fb1664ec-5bc0-47a6-b65e-5c540bc37998"
      },
      "source": [
        "optimizer_ft = optim.Adam(filter(lambda p: p.requires_grad, model.parameters()), lr=1e-4)\n",
        "\n",
        "exp_lr_scheduler = lr_scheduler.StepLR(optimizer_ft, step_size=8, gamma=0.1)\n",
        "\n",
        "model = train_model(model, optimizer_ft, exp_lr_scheduler, num_epochs=10)"
      ],
      "execution_count": null,
      "outputs": [
        {
          "output_type": "stream",
          "text": [
            "Epoch 0/9\n",
            "----------\n",
            "train: bce: 0.145584, dice: 0.949698, loss: 0.547641\n",
            "LR 0.0001\n",
            "val: bce: 0.016655, dice: 0.770899, loss: 0.393777\n",
            "saving best model to checkpoint.pth\n",
            "0m 57s\n",
            "Epoch 1/9\n",
            "----------\n",
            "train: bce: 0.016491, dice: 0.550163, loss: 0.283327\n",
            "LR 0.0001\n",
            "val: bce: 0.016174, dice: 0.370150, loss: 0.193162\n",
            "saving best model to checkpoint.pth\n",
            "0m 57s\n",
            "Epoch 2/9\n",
            "----------\n",
            "train: bce: 0.013217, dice: 0.302633, loss: 0.157925\n",
            "LR 0.0001\n",
            "val: bce: 0.010964, dice: 0.199654, loss: 0.105309\n",
            "saving best model to checkpoint.pth\n",
            "0m 57s\n",
            "Epoch 3/9\n",
            "----------\n",
            "train: bce: 0.010513, dice: 0.184996, loss: 0.097755\n",
            "LR 0.0001\n",
            "val: bce: 0.007880, dice: 0.165944, loss: 0.086912\n",
            "saving best model to checkpoint.pth\n",
            "0m 57s\n",
            "Epoch 4/9\n",
            "----------\n",
            "train: bce: 0.006355, dice: 0.128786, loss: 0.067570\n",
            "LR 0.0001\n",
            "val: bce: 0.003449, dice: 0.062818, loss: 0.033134\n",
            "saving best model to checkpoint.pth\n",
            "0m 57s\n",
            "Epoch 5/9\n",
            "----------\n",
            "train: bce: 0.003896, dice: 0.065480, loss: 0.034688\n",
            "LR 0.0001\n",
            "val: bce: 0.002994, dice: 0.055886, loss: 0.029440\n",
            "saving best model to checkpoint.pth\n",
            "0m 57s\n",
            "Epoch 6/9\n",
            "----------\n",
            "train: bce: 0.003461, dice: 0.057163, loss: 0.030312\n",
            "LR 0.0001\n",
            "val: bce: 0.002815, dice: 0.049435, loss: 0.026125\n",
            "saving best model to checkpoint.pth\n",
            "0m 57s\n",
            "Epoch 7/9\n",
            "----------\n",
            "train: bce: 0.002845, dice: 0.050007, loss: 0.026426\n",
            "LR 1e-05\n",
            "val: bce: 0.002322, dice: 0.044010, loss: 0.023166\n",
            "saving best model to checkpoint.pth\n",
            "0m 57s\n",
            "Epoch 8/9\n",
            "----------\n",
            "train: bce: 0.002337, dice: 0.043500, loss: 0.022918\n",
            "LR 1e-05\n",
            "val: bce: 0.002029, dice: 0.040623, loss: 0.021326\n",
            "saving best model to checkpoint.pth\n",
            "0m 57s\n",
            "Epoch 9/9\n",
            "----------\n",
            "train: bce: 0.002299, dice: 0.042208, loss: 0.022254\n",
            "LR 1e-05\n",
            "val: bce: 0.002075, dice: 0.040130, loss: 0.021102\n",
            "saving best model to checkpoint.pth\n",
            "0m 58s\n",
            "Best val loss: 0.021102\n"
          ],
          "name": "stdout"
        }
      ]
    },
    {
      "cell_type": "markdown",
      "metadata": {
        "id": "HtOITWdtd-xV"
      },
      "source": [
        "## 5. Model Evaluation\n",
        "\n",
        "Awesome! We have finished training our model. We can now evaluate its performance on our training dataset"
      ]
    },
    {
      "cell_type": "code",
      "metadata": {
        "id": "Y1QY261od-xW",
        "colab": {
          "base_uri": "https://localhost:8080/",
          "height": 755
        },
        "outputId": "6e464aa6-f21f-4209-aa5d-832b7791d1b5"
      },
      "source": [
        "model.eval()   # Set model to the evaluation mode\n",
        "\n",
        "# Create a new simulation dataset for testing\n",
        "test_dataset = SimDataset(3, transform = trans)\n",
        "test_loader = DataLoader(test_dataset, batch_size=3, shuffle=False, num_workers=0)\n",
        "\n",
        "# Get the first batch\n",
        "inputs, labels = next(iter(test_loader))\n",
        "inputs = inputs.to(device)\n",
        "labels = labels.to(device)\n",
        "print('inputs.shape', inputs.shape)\n",
        "print('labels.shape', labels.shape)\n",
        "\n",
        "# Predict\n",
        "pred = model(inputs)\n",
        "# The loss functions include the sigmoid function.\n",
        "pred = torch.sigmoid(pred)\n",
        "pred = pred.data.cpu().numpy()\n",
        "print('pred.shape', pred.shape)\n",
        "\n",
        "# Change channel-order and make 3 channels for matplot\n",
        "input_images_rgb = [reverse_transform(x) for x in inputs.cpu()]\n",
        "\n",
        "# Map each channel (i.e. class) to each color\n",
        "target_masks_rgb = [utils.masks_to_colorimg(x) for x in labels.cpu().numpy()]\n",
        "pred_rgb = [utils.masks_to_colorimg(x) for x in pred]\n",
        "\n",
        "utils.plot_side_by_side([input_images_rgb, target_masks_rgb, pred_rgb])\n"
      ],
      "execution_count": null,
      "outputs": [
        {
          "output_type": "stream",
          "text": [
            "inputs.shape torch.Size([3, 3, 192, 192])\n",
            "labels.shape torch.Size([3, 6, 192, 192])\n",
            "pred.shape (3, 6, 192, 192)\n"
          ],
          "name": "stdout"
        },
        {
          "output_type": "display_data",
          "data": {
            "image/png": "[encoded data removed]",
            "text/plain": [
              "<Figure size 864x864 with 9 Axes>"
            ]
          },
          "metadata": {
            "tags": [],
            "needs_background": "light"
          }
        }
      ]
    },
    {
      "cell_type": "markdown",
      "metadata": {
        "id": "8WvGsoI5rE_H"
      },
      "source": [
        "## 6. Homework Submission\n",
        "\n",
        "🎉 Congrats, you have built your first U-Net model. Please download a PDF of your filled in Google Colab Notebook with all outputs and filled in code visible and upload it [here](https://forms.gle/1rwdk9CpjH3fRQ8NA)."
      ]
    },
    {
      "cell_type": "code",
      "metadata": {
        "id": "1luThgppubgr"
      },
      "source": [
        ""
      ],
      "execution_count": null,
      "outputs": []
    }
  ]
}